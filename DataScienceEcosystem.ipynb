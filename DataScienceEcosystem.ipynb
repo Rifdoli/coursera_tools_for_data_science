{
 "cells": [
  {
   "cell_type": "markdown",
   "id": "9bc43321",
   "metadata": {},
   "source": [
    "# Data Science Tools and Ecosystem\n",
    "\n",
    "#### In this notebook, Data Science Tools and Ecosystem are summarized ####"
   ]
  },
  {
   "cell_type": "markdown",
   "id": "45cbd68c",
   "metadata": {},
   "source": [
    "**Objectives:**\n",
    "* List of popular languages for Data Science\n",
    "* List of libraries used by Data Scientist\n",
    "* Table of open source tools for Data Science"
   ]
  },
  {
   "cell_type": "markdown",
   "id": "18ee69cc",
   "metadata": {},
   "source": [
    "Some of the popular **languages that Data Scientists use are:**\n",
    "1. Phyton\n",
    "2. R\n",
    "3. SQL\n",
    "4. Java\n",
    "5. Julia\n",
    "6. Scala\n",
    "7. C/C++\n",
    "8. JavaScript\n",
    "9. Swift\n",
    "10. Go\n",
    "11. MATLAB\n",
    "12. SAS\n",
    "\n",
    "Some of the commonly used **libraries used by Data Scientists include:**\n",
    "1. TensorFlow\n",
    "2. NumPy\n",
    "3. SciPy \n",
    "4. Pandas\n",
    "5. Matplotlib \n",
    "6. Keras\n",
    "7. SciKit-Learn\n",
    "8. PyTorch\n",
    "9. Scrapy\n",
    "10. BeautifulSoup\n",
    "11. LightGBM\n",
    "12. ELI5\n",
    "\n",
    "Some of the **open source tools for Data Science are:**\n",
    "\n",
    "| Data Management | Data Integration | Data Visualization | Code Asset Mgmt |\n",
    "|:-:|:-:|:-:|:-:|\n",
    "|My SQL|Apache Airflow|Pixie Dust|Git|\n",
    "|MongoDB|KubeFlow|Hue|GitHub|\n",
    "|Apache Cassandra|Apache Kafka|Kibana|GitLab|\n",
    "|Hadoop File System|Apache Nifi|Apache Superset|BitBucket|\n",
    "|Ceph|Node RED|||"
   ]
  },
  {
   "cell_type": "markdown",
   "id": "9da1aa38",
   "metadata": {},
   "source": [
    "### Below are a few examples of evaluating arithmetic expressions in Python"
   ]
  },
  {
   "cell_type": "code",
   "execution_count": 3,
   "id": "a88fb1cf",
   "metadata": {},
   "outputs": [
    {
     "data": {
      "text/plain": [
       "17"
      ]
     },
     "execution_count": 3,
     "metadata": {},
     "output_type": "execute_result"
    }
   ],
   "source": [
    "## This a simple arithmetic expression to mutiply then add integers ##\n",
    "(3*4)+5"
   ]
  },
  {
   "cell_type": "code",
   "execution_count": 4,
   "id": "88d37053",
   "metadata": {},
   "outputs": [],
   "source": [
    "## This will convert 200 minutes to hours by diving by 60 ##\n",
    "minutes = 200\n",
    "hours = minutes / 60"
   ]
  },
  {
   "cell_type": "code",
   "execution_count": 5,
   "id": "8074b607",
   "metadata": {},
   "outputs": [
    {
     "name": "stdout",
     "output_type": "stream",
     "text": [
      "3.3333333333333335\n"
     ]
    }
   ],
   "source": [
    "print(hours)"
   ]
  },
  {
   "cell_type": "markdown",
   "id": "16042eee",
   "metadata": {},
   "source": [
    "## Thank You"
   ]
  },
  {
   "cell_type": "markdown",
   "id": "01ada336",
   "metadata": {},
   "source": [
    "## Author\n",
    "Rifdoli"
   ]
  }
 ],
 "metadata": {
  "kernelspec": {
   "display_name": "Python 3 (ipykernel)",
   "language": "python",
   "name": "python3"
  },
  "language_info": {
   "codemirror_mode": {
    "name": "ipython",
    "version": 3
   },
   "file_extension": ".py",
   "mimetype": "text/x-python",
   "name": "python",
   "nbconvert_exporter": "python",
   "pygments_lexer": "ipython3",
   "version": "3.10.9"
  }
 },
 "nbformat": 4,
 "nbformat_minor": 5
}
